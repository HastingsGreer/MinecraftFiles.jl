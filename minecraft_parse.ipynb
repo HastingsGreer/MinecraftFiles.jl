{
 "cells": [
  {
   "cell_type": "code",
   "execution_count": 10,
   "metadata": {},
   "outputs": [
    {
     "data": {
      "text/plain": [
       "getChunks (generic function with 1 method)"
      ]
     },
     "execution_count": 10,
     "metadata": {},
     "output_type": "execute_result"
    }
   ],
   "source": [
    "struct Tag\n",
    "    name::String\n",
    "    payload::Any\n",
    "end\n",
    "\n",
    "const nullTag = Tag(\"\", nothing)\n",
    "\n",
    "\n",
    "function readTag(stream, the_type, indentations)\n",
    "    payload = \"none\"\n",
    "    if the_type == 0x01\n",
    "        payload = ntoh(read(stream, Int8))\n",
    "    end\n",
    "    if the_type == 0x02\n",
    "        payload = ntoh(read(stream, Int16))\n",
    "    end\n",
    "    if the_type == 0x03\n",
    "        payload = ntoh(read(stream, Int32))\n",
    "    end\n",
    "    if the_type == 0x04\n",
    "        payload = ntoh(read(stream, Int64))\n",
    "    end\n",
    "    if the_type == 0x05\n",
    "        payload = ntoh(read(stream, Float32))\n",
    "    end\n",
    "    if the_type == 0x06\n",
    "        payload = ntoh(read(stream, Float64))\n",
    "    end\n",
    "    if the_type == 0x07\n",
    "        array_size = ntoh(read(stream, Int32))\n",
    "        payload = read(stream, array_size)\n",
    "    end\n",
    "    if the_type == 0x08\n",
    "        string_length = ntoh(read(stream, UInt16))\n",
    "        payload = String(read(stream, string_length))\n",
    "    end\n",
    "    if the_type == 0x09\n",
    "        #println(repeat(\"--\", indentations), \"List!\")\n",
    "        the_subtype = read(stream, Int8)\n",
    "        #println(repeat(\"--\", indentations),\"subtype \", the_subtype)\n",
    "        array_size = ntoh(read(stream, Int32))\n",
    "        payload =  []\n",
    "        for i = 1:array_size\n",
    "            push!(payload, readTag(stream, the_subtype, indentations + 1))\n",
    "        end\n",
    "    end\n",
    "    if the_type == 0x0a\n",
    "        payload = Tag[]\n",
    "        newTag = Tag(\"\", 1)\n",
    "        while newTag != nullTag\n",
    "            newTag = readNamedTag(stream, indentations + 1)\n",
    "            if newTag != nullTag\n",
    "               push!(payload, newTag)\n",
    "            end\n",
    "        end\n",
    "    end\n",
    "    if the_type == 0xb\n",
    "        array_size = ntoh(read(stream, Int32))\n",
    "        payload = Array{Int32, 1}(undef, array_size)\n",
    "        for i = 1:array_size\n",
    "            payload[i] = ntoh(read(stream, Int32))\n",
    "        end\n",
    "    end\n",
    "    if the_type == 0xc\n",
    "        array_size = ntoh(read(stream, Int32))\n",
    "        payload = Array{UInt64, 1}(undef, array_size)\n",
    "        for i = 1:array_size\n",
    "            payload[i] = ntoh(read(stream, UInt64))\n",
    "        end\n",
    "    end\n",
    "    return payload\n",
    "end\n",
    "\n",
    "function readNamedTag(stream, indentations=0)\n",
    "    the_type = read(stream, UInt8)\n",
    "    if the_type == 0\n",
    "        return nullTag\n",
    "    end\n",
    "    name_length = ntoh(read(stream, UInt16))\n",
    "    name = String(read(stream, name_length))\n",
    "    #println(repeat(\"--\", indentations), name, \" \", the_type)\n",
    "    payload = readTag(stream, the_type, indentations + 1)\n",
    "    return Tag(name, payload)\n",
    "end\n",
    "\n",
    "function get_heightmap(z, x; chunks)\n",
    "    \n",
    "    chunk = chunks[z, x]\n",
    "    if (chunk != nullTag )\n",
    "        if(chunk.payload[1].payload[7].name == \"Heightmaps\")\n",
    "            world_surface = chunk.payload[1].payload[7].payload[4].payload\n",
    "            return get9(world_surface)\n",
    "        else\n",
    "            return zeros(UInt64, (16, 16)) .+ 32\n",
    "        end\n",
    "    else\n",
    "        return zeros(UInt64, (16, 16))\n",
    "    end\n",
    "end\n",
    "\n",
    "\n",
    "function get9(worldheight)\n",
    "    bita = BitArray(undef, 16 * 16 * 9)\n",
    "    bita.chunks .= worldheight\n",
    "    return reshape(map(0:16 * 16 - 1) do i\n",
    "        bita[1 + 9 * i: 9 + 9 * i].chunks[1]\n",
    "            end, (16, 16))\n",
    "end\n",
    "\n",
    "\n",
    "using CodecZlib\n",
    "function getChunks(fname)\n",
    "    locations = Array{UInt32, 2}(undef, 32, 32)\n",
    "    sizes = Array{UInt8, 2}(undef, 32, 32)\n",
    "\n",
    "    chunks = Array{Tag, 2}(undef, 32, 32)\n",
    "    open(fname, \"r\") do io\n",
    "\n",
    "        for x = 1:32\n",
    "            for z = 1:32\n",
    "                val = ntoh(read(io, Int32))\n",
    "                locations[x, z] = val >> 8\n",
    "                sizes[x, z] = val & 255\n",
    "\n",
    "            end\n",
    "        end\n",
    "\n",
    "        for x = 1:32\n",
    "            for z = 1:32\n",
    "                compressed_chunk = Array{UInt8, 1}()\n",
    "                if(locations[z, x] != 0)\n",
    "                    seek(io, locations[z, x] * 4096)\n",
    "\n",
    "                    chunk_length = ntoh(read(io, UInt32))\n",
    "                    compression_type = read(io, UInt8)\n",
    "\n",
    "\n",
    "                    readbytes!(io, compressed_chunk, chunk_length - 1)\n",
    "\n",
    "                    uncompressed_chunk = transcode(ZlibDecompressor, compressed_chunk)\n",
    "                    chunk_buffer = IOBuffer(uncompressed_chunk)\n",
    "\n",
    "                    chunks[z, x] = readNamedTag(chunk_buffer)\n",
    "                else\n",
    "                    chunks[z, x] = nullTag\n",
    "                end\n",
    "                \n",
    "            end\n",
    "        end\n",
    "\n",
    "\n",
    "    end\n",
    "    return chunks\n",
    "end\n",
    "\n",
    "\n"
   ]
  },
  {
   "cell_type": "code",
   "execution_count": 11,
   "metadata": {},
   "outputs": [
    {
     "data": {
      "text/plain": [
       "true"
      ]
     },
     "execution_count": 11,
     "metadata": {},
     "output_type": "execute_result"
    }
   ],
   "source": [
    "nullTag == nullTag"
   ]
  },
  {
   "cell_type": "code",
   "execution_count": 22,
   "metadata": {},
   "outputs": [
    {
     "name": "stdout",
     "output_type": "stream",
     "text": [
      "  0.508842 seconds (1.32 M allocations: 266.596 MiB, 22.02% gc time)\n",
      "  0.018963 seconds (486.52 k allocations: 31.938 MiB)\n",
      "  0.015521 seconds (14.99 k allocations: 4.837 MiB)\n"
     ]
    },
    {
     "data": {
      "text/plain": [
       "512×512 Array{UInt64,2}:\n",
       " 0x0000000000000044  0x0000000000000043  …  0x0000000000000020\n",
       " 0x0000000000000044  0x0000000000000044     0x0000000000000020\n",
       " 0x0000000000000045  0x0000000000000044     0x0000000000000020\n",
       " 0x0000000000000045  0x0000000000000045     0x0000000000000020\n",
       " 0x0000000000000046  0x0000000000000045     0x0000000000000020\n",
       " 0x0000000000000046  0x0000000000000046  …  0x0000000000000020\n",
       " 0x0000000000000047  0x0000000000000046     0x0000000000000020\n",
       " 0x0000000000000047  0x0000000000000047     0x0000000000000020\n",
       " 0x0000000000000048  0x0000000000000047     0x0000000000000020\n",
       " 0x000000000000004c  0x000000000000004a     0x0000000000000020\n",
       " 0x0000000000000051  0x000000000000004e  …  0x0000000000000020\n",
       " 0x0000000000000054  0x0000000000000051     0x0000000000000020\n",
       " 0x0000000000000057  0x0000000000000054     0x0000000000000020\n",
       "                  ⋮                      ⋱                    \n",
       " 0x000000000000008e  0x000000000000008e  …  0x0000000000000000\n",
       " 0x000000000000008f  0x000000000000008f     0x0000000000000000\n",
       " 0x000000000000008d  0x000000000000008e     0x0000000000000000\n",
       " 0x000000000000008e  0x000000000000008e     0x0000000000000000\n",
       " 0x000000000000008d  0x000000000000008c     0x0000000000000000\n",
       " 0x000000000000008b  0x000000000000008b  …  0x0000000000000000\n",
       " 0x000000000000008b  0x000000000000008a     0x0000000000000000\n",
       " 0x0000000000000088  0x0000000000000088     0x0000000000000000\n",
       " 0x0000000000000086  0x0000000000000086     0x0000000000000000\n",
       " 0x0000000000000085  0x0000000000000085     0x0000000000000000\n",
       " 0x0000000000000085  0x0000000000000084  …  0x0000000000000000\n",
       " 0x0000000000000083  0x0000000000000083     0x0000000000000000"
      ]
     },
     "execution_count": 22,
     "metadata": {},
     "output_type": "execute_result"
    }
   ],
   "source": [
    "@time chunks = getChunks(\"r.0.0.mca\")\n",
    "\n",
    "\n",
    "\n",
    "@time surfaceChunked = get_heightmap.(1:32, (1:32)'; chunks=chunks)\n",
    "0\n",
    "@time mc_surface = vcat((hcat(surfaceChunked[:, i]...) for i in 1:32)...)\n",
    "\n"
   ]
  },
  {
   "cell_type": "code",
   "execution_count": 17,
   "metadata": {},
   "outputs": [],
   "source": [
    "using PyPlot"
   ]
  },
  {
   "cell_type": "code",
   "execution_count": 18,
   "metadata": {},
   "outputs": [
    {
     "data": {
      "image/png": "[encoded data removed]",
      "text/plain": [
       "Figure(PyObject <Figure size 640x480 with 1 Axes>)"
      ]
     },
     "metadata": {},
     "output_type": "display_data"
    },
    {
     "data": {
      "text/plain": [
       "PyObject <matplotlib.image.AxesImage object at 0x0000000035DF5978>"
      ]
     },
     "execution_count": 18,
     "metadata": {},
     "output_type": "execute_result"
    }
   ],
   "source": [
    "imshow(mc_surface)"
   ]
  },
  {
   "cell_type": "code",
   "execution_count": 10,
   "metadata": {},
   "outputs": [
    {
     "data": {},
     "execution_count": 10,
     "metadata": {},
     "output_type": "execute_result"
    }
   ],
   "source": [
    "lines(sin.(1:.01:6))"
   ]
  },
  {
   "cell_type": "code",
   "execution_count": 438,
   "metadata": {},
   "outputs": [
    {
     "data": {
      "text/plain": [
       "0"
      ]
     },
     "execution_count": 438,
     "metadata": {},
     "output_type": "execute_result"
    }
   ],
   "source": [
    "world_surface = chunk.payload[1].payload[7].payload[4].payload\n",
    "\n",
    "#Pallete\n",
    "chunk.payload[1].payload[12].payload[2][2][1]\n",
    "\n",
    "chunk.payload[1].payload[12].payload[2][2][2].payload[2]\n",
    "0"
   ]
  },
  {
   "cell_type": "code",
   "execution_count": 399,
   "metadata": {},
   "outputs": [
    {
     "data": {
      "image/png": "[encoded data removed]",
      "text/plain": [
       "Figure(PyObject <Figure size 640x480 with 2 Axes>)"
      ]
     },
     "metadata": {},
     "output_type": "display_data"
    },
    {
     "data": {
      "text/plain": [
       "PyObject <matplotlib.colorbar.Colorbar object at 0x000000003C8A34A8>"
      ]
     },
     "execution_count": 399,
     "metadata": {},
     "output_type": "execute_result"
    }
   ],
   "source": [
    "imshow(get9(world_surface))\n",
    "colorbar()"
   ]
  },
  {
   "cell_type": "code",
   "execution_count": 434,
   "metadata": {},
   "outputs": [
    {
     "data": {
      "text/plain": [
       "23-element Array{Int64,1}:\n",
       "  1\n",
       "  2\n",
       "  3\n",
       "  4\n",
       "  5\n",
       "  6\n",
       "  7\n",
       "  8\n",
       "  9\n",
       " 10\n",
       " 11\n",
       " 12\n",
       " 13\n",
       " 14\n",
       " 15\n",
       " 16\n",
       " 17\n",
       " 18\n",
       " 19\n",
       " 20\n",
       " 21\n",
       " 22\n",
       " 23"
      ]
     },
     "execution_count": 434,
     "metadata": {},
     "output_type": "execute_result"
    }
   ],
   "source": [
    "[i for i in 1:23]"
   ]
  },
  {
   "cell_type": "code",
   "execution_count": 15,
   "metadata": {},
   "outputs": [
    {
     "data": {
      "text/plain": [
       "Tag(\"\", Tag[Tag(\"Level\", Tag[Tag(\"Status\", \"full\"), Tag(\"zPos\", 15), Tag(\"LastUpdate\", 4113), Tag(\"Biomes\", Int32[2, 2, 2, 2, 2, 2, 2, 2, 2, 2  …  2, 2, 2, 2, 2, 2, 2, 2, 2, 2]), Tag(\"InhabitedTime\", 0), Tag(\"xPos\", 15), Tag(\"Heightmaps\", Tag[Tag(\"OCEAN_FLOOR\", UInt64[0x1c8e472391c8e472, 0x8e472391c8e47239, 0x472391c8e472391c, 0x2391c8e472391c8e, 0x91c8e472391c8e47, 0xc8e472391c8e4723, 0xe472391c8e472391, 0x71389c4e271391c8, 0x389c4e472391c8e2, 0x9c4e271389c4e272  …  0x2a150a8542a150a8, 0x150a8542a150a854, 0xca6532994ca8542a, 0x8542a150a8542994, 0x32a150a8542a150a, 0xa150a8542994ca65, 0x50a8542a150a8542, 0xa8542994ca6542a1, 0x542a150a8542a150, 0x2994ca8542a150a8]), Tag(\"MOTION_BLOCKING_NO_LEAVES\", UInt64[0x1c8e472391c8e472, 0x8e472391c8e47239, 0x472391c8e472391c, 0x2391c8e472391c8e, 0x91c8e472391c8e47, 0xc8e472391c8e4723, 0xe472391c8e472391, 0x71389c4e271391c8, 0x389c4e472391c8e2, 0x9c4e271389c4e272  …  0x2a150a8542a150a8, 0x150a8542a150a854, 0xca6532994ca8542a, 0x8542a150a8542994, 0x32a150a8542a150a, 0xa150a8542994ca65, 0x50a8542a150a8542, 0xa8542994ca6542a1, 0x542a150a8542a150, 0x2994ca8542a150a8]), Tag(\"MOTION_BLOCKING\", UInt64[0x1c8e472391c8e472, 0x8e472391c8e47239, 0x472391c8e472391c, 0x2391c8e472391c8e, 0x91c8e472391c8e47, 0xc8e472391c8e4723, 0xe472391c8e472391, 0x71389c4e271391c8, 0x389c4e472391c8e2, 0x9c4e271389c4e272  …  0x2a150a8542a150a8, 0x150a8542a150a854, 0xca6532994ca8542a, 0x8542a150a8542994, 0x32a150a8542a150a, 0xa150a8542994ca65, 0x50a8542a150a8542, 0xa8542994ca6542a1, 0x542a150a8542a150, 0x2994ca8542a150a8]), Tag(\"WORLD_SURFACE\", UInt64[0x1c8e472391c8e472, 0x8e472391c8e67239, 0x472391c8e472391c, 0x2391c8e472391c8e, 0x91c8e472391c8e47, 0xc8e472391c8e4723, 0xe472391c8e472391, 0x71389c4e271391c8, 0x389c4e472391c8e2, 0x9c4e271389c4e272  …  0x2a150a8542a150a8, 0x150a8542a150a854, 0xca6532994ca8542a, 0x8542a150a8542994, 0x32a150a8542a150a, 0xa150a8542994ca65, 0x50a8542a150a8542, 0xa8542994ca6542a1, 0x542a150a8542a150, 0x2994ca8542a150a8])]), Tag(\"TileEntities\", Any[]), Tag(\"Entities\", Any[]), Tag(\"isLightOn\", 1), Tag(\"TileTicks\", Any[]), Tag(\"Sections\", Any[Tag[Tag(\"Y\", -1)], Tag[Tag(\"BlockStates\", UInt64[0x1111111111111111, 0x1111111111111111, 0x1111111111111111, 0x1111111111111111, 0x1111111111111111, 0x1111111111111111, 0x1111111111111111, 0x1111111111111111, 0x1111111111111111, 0x1111111111111111  …  0x2222299999222222, 0x2299999999222222, 0x2999994444422222, 0x2999222444422222, 0x2222222222222222, 0x2222222222222222, 0x2222222222225222, 0x2222666222225522, 0x2222666222255522, 0x2222266622225522]), Tag(\"Palette\", Any[Tag[Tag(\"Name\", \"minecraft:air\")], Tag[Tag(\"Name\", \"minecraft:bedrock\")], Tag[Tag(\"Name\", \"minecraft:stone\")], Tag[Tag(\"Name\", \"minecraft:iron_ore\")], Tag[Tag(\"Name\", \"minecraft:coal_ore\")], Tag[Tag(\"Name\", \"minecraft:granite\")], Tag[Tag(\"Name\", \"minecraft:andesite\")], Tag[Tag(\"Properties\", Tag[Tag(\"lit\", \"false\")]), Tag(\"Name\", \"minecraft:redstone_ore\")], Tag[Tag(\"Name\", \"minecraft:lapis_ore\")], Tag[Tag(\"Name\", \"minecraft:diorite\")], Tag[Tag(\"Name\", \"minecraft:gold_ore\")]]), Tag(\"Y\", 0)], Tag[Tag(\"BlockStates\", UInt64[0x2222222222222221, 0x2222222222222222, 0x2222222222222222, 0x2222222222222222, 0x2222222222222222, 0x2222222322222222, 0x2222233333222222, 0x2333333333222222, 0x3333334444422222, 0x3333333454422222  …  0x2555522222222222, 0x2255522222222222, 0x2222777222222222, 0x2227777722222222, 0x2212777772222222, 0x2112277772222222, 0x1112227777222222, 0x1112222222222222, 0x1122222222222222, 0x2222222222222222]), Tag(\"Palette\", Any[Tag[Tag(\"Name\", \"minecraft:air\")], Tag[Tag(\"Name\", \"minecraft:andesite\")], Tag[Tag(\"Name\", \"minecraft:stone\")], Tag[Tag(\"Name\", \"minecraft:diorite\")], Tag[Tag(\"Name\", \"minecraft:coal_ore\")], Tag[Tag(\"Name\", \"minecraft:dirt\")], Tag[Tag(\"Name\", \"minecraft:iron_ore\")], Tag[Tag(\"Name\", \"minecraft:granite\")]]), Tag(\"Y\", 1)], Tag[Tag(\"BlockStates\", UInt64[0x2111111111111111, 0x3111111111111111, 0x3311111111111111, 0x3333111111111111, 0x3333111111111111, 0x3333311111111111, 0x1333311111111111, 0x1133322111111111, 0x1114222211111111, 0x1144222221111111  …  0x2211111111111111, 0x2211111111111111, 0x2211115511111111, 0x2211115511111111, 0x2211155511111111, 0x2111155511111111, 0x1111775512111111, 0x1117775122211111, 0x1177711122221111, 0x1177111122221111]), Tag(\"Palette\", Any[Tag[Tag(\"Name\", \"minecraft:air\")], Tag[Tag(\"Name\", \"minecraft:stone\")], Tag[Tag(\"Name\", \"minecraft:granite\")], Tag[Tag(\"Name\", \"minecraft:dirt\")], Tag[Tag(\"Name\", \"minecraft:andesite\")], Tag[Tag(\"Name\", \"minecraft:diorite\")], Tag[Tag(\"Name\", \"minecraft:iron_ore\")], Tag[Tag(\"Name\", \"minecraft:coal_ore\")], Tag[Tag(\"Name\", \"minecraft:gravel\")]]), Tag(\"Y\", 2)], Tag[Tag(\"BlockStates\", UInt64[0x1111111111111111, 0x1111111111111111, 0x2111111111111111, 0x2211111111111111, 0x2211111111111111, 0x2211111111111111, 0x2211111111111111, 0x2211111111111111, 0x2211111111111111, 0x2211111111111111  …  0x9999999999999999, 0x9999999999999999, 0x9999999999999991, 0x9999999999999999, 0x9999999999999999, 0x9999999999999999, 0x9999999999999999, 0x9999999999999999, 0x9999999999999999, 0x9999999999999999]), Tag(\"Palette\", Any[Tag[Tag(\"Name\", \"minecraft:air\")], Tag[Tag(\"Name\", \"minecraft:stone\")], Tag[Tag(\"Name\", \"minecraft:granite\")], Tag[Tag(\"Name\", \"minecraft:coal_ore\")], Tag[Tag(\"Name\", \"minecraft:diorite\")], Tag[Tag(\"Name\", \"minecraft:iron_ore\")], Tag[Tag(\"Name\", \"minecraft:andesite\")], Tag[Tag(\"Name\", \"minecraft:dirt\")], Tag[Tag(\"Name\", \"minecraft:gravel\")], Tag[Tag(\"Name\", \"minecraft:sandstone\")]]), Tag(\"Y\", 3)], Tag[Tag(\"BlockStates\", UInt64[0x1111111111111111, 0x1111111111111111, 0x1111111111111111, 0x1111111111111111, 0x1111111111111111, 0x1111111111111111, 0x1111111111111111, 0x1111111111111111, 0x1111111111111112, 0x1111111111111111  …  0x1111555111111111, 0x1111111111111111, 0x1111111111111113, 0x1111111611111111, 0x1111111111111111, 0x1111111111111111, 0x6666661111111666, 0x6666111111116661, 0x6661111111116116, 0x6611111111111166]), Tag(\"Palette\", Any[Tag[Tag(\"Name\", \"minecraft:air\")], Tag[Tag(\"Name\", \"minecraft:sandstone\")], Tag[Tag(\"Name\", \"minecraft:andesite\")], Tag[Tag(\"Name\", \"minecraft:stone\")], Tag[Tag(\"Name\", \"minecraft:gravel\")], Tag[Tag(\"Name\", \"minecraft:cave_air\")], Tag[Tag(\"Name\", \"minecraft:sand\")]]), Tag(\"SkyLight\", UInt8[0x00, 0x00, 0x00, 0x00, 0x00, 0x00, 0x00, 0x00, 0x00, 0x00  …  0x00, 0x00, 0x00, 0x00, 0x00, 0x00, 0x00, 0x00, 0x00, 0x00]), Tag(\"Y\", 4)], Tag[Tag(\"BlockStates\", UInt64[0x1111111122222211, 0x1111111222222111, 0x1111112222221111, 0x1111222222211111, 0x1112222221111111, 0x1122222211111111, 0x1122222111111111, 0x1122221111111111, 0x1444444411111113, 0x4444444441111111  …  0x4000000000044111, 0x0000000000000011, 0x0000000000000004, 0x0000000000000000, 0x0000000000000000, 0x0000000000000000, 0x0000000000000000, 0x0000000000000000, 0x0000000000000000, 0x0000000000000000]), Tag(\"Palette\", Any[Tag[Tag(\"Name\", \"minecraft:air\")], Tag[Tag(\"Name\", \"minecraft:sandstone\")], Tag[Tag(\"Name\", \"minecraft:cave_air\")], Tag[Tag(\"Name\", \"minecraft:stone\")], Tag[Tag(\"Name\", \"minecraft:sand\")]]), Tag(\"SkyLight\", UInt8[0x00, 0x00, 0x00, 0x10, 0x00, 0x00, 0x00, 0x00, 0x00, 0x00  …  0xff, 0xff, 0xff, 0xff, 0xff, 0xff, 0xff, 0xff, 0xff, 0xff]), Tag(\"Y\", 5)], Tag[Tag(\"BlockStates\", UInt64[0x1111111111111111, 0x1111111111111111, 0x1111111111111111, 0x1111111111111111, 0x1111111111111111, 0x1111122021111111, 0x2000000000022111, 0x0000000000000011, 0x0000000000000000, 0x0000000000000000  …  0x0000000000000022, 0x0000000000000002, 0x0000000000000002, 0x0000000000000000, 0x0000000000000000, 0x0000000000000000, 0x0000000000000000, 0x0000000000000000, 0x0000000000000000, 0x0000000000000000]), Tag(\"Palette\", Any[Tag[Tag(\"Name\", \"minecraft:air\")], Tag[Tag(\"Name\", \"minecraft:sandstone\")], Tag[Tag(\"Name\", \"minecraft:sand\")]]), Tag(\"SkyLight\", UInt8[0x00, 0x00, 0x00, 0x00, 0x00, 0x00, 0x00, 0x00, 0x00, 0x00  …  0xff, 0xff, 0xff, 0xff, 0xff, 0xff, 0xff, 0xff, 0xff, 0xff]), Tag(\"Y\", 6)], Tag[Tag(\"BlockStates\", UInt64[0x1111111111111111, 0x1111111111111111, 0x1111111111111111, 0x1111111111111111, 0x1111111111111111, 0x0000000000001111, 0x0000000000000011, 0x0000000000000001, 0x0000000000000001, 0x0000000000000000  …  0x0000000000000000, 0x0000000000000000, 0x0000000000000000, 0x0000000000000000, 0x0000000000000000, 0x0000000000000000, 0x0000000000000000, 0x0000000000000000, 0x0000000000000000, 0x0000000000000000]), Tag(\"Palette\", Any[Tag[Tag(\"Name\", \"minecraft:air\")], Tag[Tag(\"Name\", \"minecraft:sand\")], Tag[Tag(\"Name\", \"minecraft:dead_bush\")]]), Tag(\"SkyLight\", UInt8[0x00, 0x00, 0x00, 0x00, 0x00, 0x00, 0x00, 0x00, 0x00, 0x00  …  0xff, 0xff, 0xff, 0xff, 0xff, 0xff, 0xff, 0xff, 0xff, 0xff]), Tag(\"Y\", 7)], Tag[Tag(\"SkyLight\", UInt8[0xff, 0xff, 0xff, 0xff, 0xff, 0xff, 0xff, 0xff, 0xff, 0xff  …  0xff, 0xff, 0xff, 0xff, 0xff, 0xff, 0xff, 0xff, 0xff, 0xff]), Tag(\"Y\", 8)]]), Tag(\"PostProcessing\", Any[Any[], Any[], Any[], Any[], Any[], Any[], Any[], Any[], Any[], Any[], Any[], Any[], Any[], Any[], Any[], Any[]]), Tag(\"Structures\", Tag[Tag(\"Starts\", Tag[Tag(\"Monument\", Tag[Tag(\"id\", \"INVALID\")]), Tag(\"Ocean_Ruin\", Tag[Tag(\"id\", \"INVALID\")]), Tag(\"Village\", Tag[Tag(\"id\", \"INVALID\")]), Tag(\"Mansion\", Tag[Tag(\"id\", \"INVALID\")]), Tag(\"Buried_Treasure\", Tag[Tag(\"id\", \"INVALID\")]), Tag(\"Swamp_Hut\", Tag[Tag(\"id\", \"INVALID\")]), Tag(\"Stronghold\", Tag[Tag(\"id\", \"INVALID\")]), Tag(\"Desert_Pyramid\", Tag[Tag(\"id\", \"INVALID\")]), Tag(\"Jungle_Pyramid\", Tag[Tag(\"id\", \"INVALID\")]), Tag(\"Shipwreck\", Tag[Tag(\"id\", \"INVALID\")]), Tag(\"Pillager_Outpost\", Tag[Tag(\"id\", \"INVALID\")]), Tag(\"Mineshaft\", Tag[Tag(\"id\", \"INVALID\")]), Tag(\"Igloo\", Tag[Tag(\"id\", \"INVALID\")])]), Tag(\"References\", Tag[Tag(\"Monument\", UInt64[]), Tag(\"Ocean_Ruin\", UInt64[]), Tag(\"Village\", UInt64[]), Tag(\"Mansion\", UInt64[]), Tag(\"Buried_Treasure\", UInt64[]), Tag(\"Swamp_Hut\", UInt64[]), Tag(\"Stronghold\", UInt64[]), Tag(\"Desert_Pyramid\", UInt64[]), Tag(\"Jungle_Pyramid\", UInt64[]), Tag(\"Shipwreck\", UInt64[]), Tag(\"Pillager_Outpost\", UInt64[]), Tag(\"Mineshaft\", UInt64[]), Tag(\"Igloo\", UInt64[])])]), Tag(\"LiquidTicks\", Any[])]), Tag(\"DataVersion\", 2227)])"
      ]
     },
     "execution_count": 15,
     "metadata": {},
     "output_type": "execute_result"
    }
   ],
   "source": [
    "chunks[16, 16]"
   ]
  },
  {
   "cell_type": "code",
   "execution_count": null,
   "metadata": {},
   "outputs": [],
   "source": []
  }
 ],
 "metadata": {
  "kernelspec": {
   "display_name": "Julia 1.3.1",
   "language": "julia",
   "name": "julia-1.3"
  },
  "language_info": {
   "file_extension": ".jl",
   "mimetype": "application/julia",
   "name": "julia",
   "version": "1.3.1"
  }
 },
 "nbformat": 4,
 "nbformat_minor": 2
}
